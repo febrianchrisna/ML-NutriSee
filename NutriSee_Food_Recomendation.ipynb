{
  "nbformat": 4,
  "nbformat_minor": 0,
  "metadata": {
    "colab": {
      "provenance": [],
      "gpuType": "T4"
    },
    "kernelspec": {
      "name": "python3",
      "display_name": "Python 3"
    },
    "language_info": {
      "name": "python"
    },
    "accelerator": "GPU"
  },
  "cells": [
    {
      "cell_type": "code",
      "execution_count": 2,
      "metadata": {
        "id": "LRk-h6yrp9um",
        "outputId": "ed1b11cd-a9b1-4a1a-b59b-74bc39d91a8d",
        "colab": {
          "base_uri": "https://localhost:8080/"
        }
      },
      "outputs": [
        {
          "output_type": "stream",
          "name": "stdout",
          "text": [
            "         class  Calories (kcal)  Protein (g)  Carbohydrates (g)  Fat (g)  \\\n",
            "0   Ayam Bakar              167        25.01               0.00     6.63   \n",
            "1  Ayam Geprek              263        17.61               7.60    17.99   \n",
            "2  Ayam Goreng              260        21.93              10.76    14.55   \n",
            "3        Bakso              180        12.00              15.00     8.00   \n",
            "4   Ikan Bakar              200        30.00               0.00     8.00   \n",
            "\n",
            "   Fiber (g)  \n",
            "0        0.0  \n",
            "1        0.8  \n",
            "2        1.4  \n",
            "3        1.0  \n",
            "4        0.0  \n"
          ]
        }
      ],
      "source": [
        "# Import Libraries\n",
        "import pandas as pd\n",
        "import numpy as np\n",
        "from sklearn.model_selection import train_test_split\n",
        "from sklearn.preprocessing import OneHotEncoder, StandardScaler\n",
        "import tensorflow as tf\n",
        "\n",
        "# Load Dataset\n",
        "# Replace this with your dataset if needed\n",
        "uploaded_nutrition_data = pd.read_csv('/content/nurtition_data_recom.csv')\n",
        "\n",
        "print(uploaded_nutrition_data.head())"
      ]
    },
    {
      "cell_type": "code",
      "source": [
        "# Simulate BMI and Goal data\n",
        "np.random.seed(42)\n",
        "uploaded_nutrition_data['BMI'] = np.random.uniform(18, 35, len(uploaded_nutrition_data))\n",
        "uploaded_nutrition_data['goal'] = np.random.choice(['weight_loss', 'weight_gain', 'maintenance'], len(uploaded_nutrition_data))\n",
        "\n",
        "# Function to Assign Labels\n",
        "def assign_label(row, goal):\n",
        "    if goal == 'weight_loss':\n",
        "        return 1 if row['Calories (kcal)'] < 300 and row['Protein (g)'] > 5 and row['Fiber (g)'] > 0.5 else 0\n",
        "    elif goal == 'weight_gain':\n",
        "        return 1 if row['Calories (kcal)'] > 250 and row['Protein (g)'] > 15 and row['Fat (g)'] > 10 else 0\n",
        "    elif goal == 'maintenance':\n",
        "        return 1 if (150 <= row['Calories (kcal)'] <= 300 and\n",
        "                     row['Protein (g)'] > 8 and\n",
        "                     row['Carbohydrates (g)'] > 5 and\n",
        "                     5 <= row['Fat (g)'] <= 17) else 0\n",
        "    return 0\n",
        "\n",
        "# Generate Labels\n",
        "uploaded_nutrition_data['weight_loss_label'] = uploaded_nutrition_data.apply(assign_label, axis=1, goal='weight_loss')\n",
        "uploaded_nutrition_data['weight_gain_label'] = uploaded_nutrition_data.apply(assign_label, axis=1, goal='weight_gain')\n",
        "uploaded_nutrition_data['maintenance_label'] = uploaded_nutrition_data.apply(assign_label, axis=1, goal='maintenance')\n",
        "\n",
        "# Menampilkan beberapa data setelah penambahan kategori diet\n",
        "print(uploaded_nutrition_data[['class', 'Calories (kcal)', 'Protein (g)', 'Carbohydrates (g)', 'Fat (g)', 'Fiber (g)', 'weight_loss_label', 'weight_gain_label', 'maintenance_label']].head())"
      ],
      "metadata": {
        "colab": {
          "base_uri": "https://localhost:8080/"
        },
        "id": "bU6FrqiARykx",
        "outputId": "9e9f68c8-1a54-4dd0-896c-94763286bde1"
      },
      "execution_count": 8,
      "outputs": [
        {
          "output_type": "stream",
          "name": "stdout",
          "text": [
            "         class  Calories (kcal)  Protein (g)  Carbohydrates (g)  Fat (g)  \\\n",
            "0   Ayam Bakar              167        25.01               0.00     6.63   \n",
            "1  Ayam Geprek              263        17.61               7.60    17.99   \n",
            "2  Ayam Goreng              260        21.93              10.76    14.55   \n",
            "3        Bakso              180        12.00              15.00     8.00   \n",
            "4   Ikan Bakar              200        30.00               0.00     8.00   \n",
            "\n",
            "   Fiber (g)  weight_loss_label  weight_gain_label  maintenance_label  \n",
            "0        0.0                  0                  0                  0  \n",
            "1        0.8                  1                  1                  0  \n",
            "2        1.4                  1                  1                  1  \n",
            "3        1.0                  1                  0                  1  \n",
            "4        0.0                  0                  0                  0  \n"
          ]
        }
      ]
    },
    {
      "cell_type": "code",
      "source": [
        "# Prepare Features and Labels (example: weight_loss)\n",
        "X = uploaded_nutrition_data[['BMI', 'Calories (kcal)', 'Protein (g)', 'Carbohydrates (g)', 'Fat (g)', 'Fiber (g)']]\n",
        "y = uploaded_nutrition_data['weight_loss_label']\n",
        "\n",
        "# One-hot encode the 'goal' feature\n",
        "goal_encoder = OneHotEncoder(sparse_output=False)  # Updated for newer scikit-learn versions\n",
        "goal_encoded = goal_encoder.fit_transform(uploaded_nutrition_data[['goal']])\n",
        "goal_columns = goal_encoder.get_feature_names_out(['goal'])\n",
        "goal_df = pd.DataFrame(goal_encoded, columns=goal_columns)\n",
        "\n",
        "# Combine encoded goal with features\n",
        "X = pd.concat([X.reset_index(drop=True), goal_df.reset_index(drop=True)], axis=1)\n",
        "\n",
        "# Scale the features\n",
        "scaler = StandardScaler()\n",
        "X_scaled = scaler.fit_transform(X)\n",
        "\n",
        "# Split into training and testing sets\n",
        "X_train, X_test, y_train, y_test = train_test_split(X_scaled, y, test_size=0.2, random_state=42)\n",
        "\n",
        "# Build the Neural Network Model\n",
        "model = tf.keras.models.Sequential([\n",
        "    tf.keras.layers.Dense(64, activation='relu', input_shape=(X_train.shape[1],)),\n",
        "    tf.keras.layers.Dense(32, activation='relu'),\n",
        "    tf.keras.layers.Dense(16, activation='relu'),\n",
        "    tf.keras.layers.Dense(1, activation='sigmoid')  # Sigmoid for binary classification\n",
        "])\n",
        "\n",
        "# Compile the Model\n",
        "model.compile(optimizer='adam', loss='binary_crossentropy', metrics=['accuracy'])\n",
        "\n",
        "# Train the Model\n",
        "history = model.fit(X_train, y_train, epochs=50, batch_size=4, validation_split=0.2, verbose=1)\n",
        "\n",
        "# Evaluate the Model\n",
        "loss, accuracy = model.evaluate(X_test, y_test, verbose=0)\n",
        "\n",
        "# Display the Test Accuracy\n",
        "print(f\"Test Accuracy: {accuracy:.2f}\")"
      ],
      "metadata": {
        "colab": {
          "base_uri": "https://localhost:8080/"
        },
        "id": "Sa4OtDhYSEXC",
        "outputId": "8c4d6184-4f42-4449-d1be-f44df44f4fbd"
      },
      "execution_count": 9,
      "outputs": [
        {
          "output_type": "stream",
          "name": "stderr",
          "text": [
            "/usr/local/lib/python3.10/dist-packages/keras/src/layers/core/dense.py:87: UserWarning: Do not pass an `input_shape`/`input_dim` argument to a layer. When using Sequential models, prefer using an `Input(shape)` object as the first layer in the model instead.\n",
            "  super().__init__(activity_regularizer=activity_regularizer, **kwargs)\n"
          ]
        },
        {
          "output_type": "stream",
          "name": "stdout",
          "text": [
            "Epoch 1/50\n",
            "\u001b[1m6/6\u001b[0m \u001b[32m━━━━━━━━━━━━━━━━━━━━\u001b[0m\u001b[37m\u001b[0m \u001b[1m4s\u001b[0m 306ms/step - accuracy: 0.4976 - loss: 0.6783 - val_accuracy: 0.5714 - val_loss: 0.6584\n",
            "Epoch 2/50\n",
            "\u001b[1m6/6\u001b[0m \u001b[32m━━━━━━━━━━━━━━━━━━━━\u001b[0m\u001b[37m\u001b[0m \u001b[1m2s\u001b[0m 10ms/step - accuracy: 0.5429 - loss: 0.6594 - val_accuracy: 0.7143 - val_loss: 0.6399\n",
            "Epoch 3/50\n",
            "\u001b[1m6/6\u001b[0m \u001b[32m━━━━━━━━━━━━━━━━━━━━\u001b[0m\u001b[37m\u001b[0m \u001b[1m0s\u001b[0m 7ms/step - accuracy: 0.5619 - loss: 0.6269 - val_accuracy: 0.7143 - val_loss: 0.6251\n",
            "Epoch 4/50\n",
            "\u001b[1m6/6\u001b[0m \u001b[32m━━━━━━━━━━━━━━━━━━━━\u001b[0m\u001b[37m\u001b[0m \u001b[1m0s\u001b[0m 7ms/step - accuracy: 0.5244 - loss: 0.6498 - val_accuracy: 1.0000 - val_loss: 0.6076\n",
            "Epoch 5/50\n",
            "\u001b[1m6/6\u001b[0m \u001b[32m━━━━━━━━━━━━━━━━━━━━\u001b[0m\u001b[37m\u001b[0m \u001b[1m0s\u001b[0m 6ms/step - accuracy: 0.8536 - loss: 0.6042 - val_accuracy: 1.0000 - val_loss: 0.5954\n",
            "Epoch 6/50\n",
            "\u001b[1m6/6\u001b[0m \u001b[32m━━━━━━━━━━━━━━━━━━━━\u001b[0m\u001b[37m\u001b[0m \u001b[1m0s\u001b[0m 11ms/step - accuracy: 0.9131 - loss: 0.5322 - val_accuracy: 1.0000 - val_loss: 0.5791\n",
            "Epoch 7/50\n",
            "\u001b[1m6/6\u001b[0m \u001b[32m━━━━━━━━━━━━━━━━━━━━\u001b[0m\u001b[37m\u001b[0m \u001b[1m0s\u001b[0m 10ms/step - accuracy: 0.8762 - loss: 0.5721 - val_accuracy: 1.0000 - val_loss: 0.5622\n",
            "Epoch 8/50\n",
            "\u001b[1m6/6\u001b[0m \u001b[32m━━━━━━━━━━━━━━━━━━━━\u001b[0m\u001b[37m\u001b[0m \u001b[1m0s\u001b[0m 10ms/step - accuracy: 0.8673 - loss: 0.5236 - val_accuracy: 0.8571 - val_loss: 0.5441\n",
            "Epoch 9/50\n",
            "\u001b[1m6/6\u001b[0m \u001b[32m━━━━━━━━━━━━━━━━━━━━\u001b[0m\u001b[37m\u001b[0m \u001b[1m0s\u001b[0m 7ms/step - accuracy: 0.8018 - loss: 0.5179 - val_accuracy: 0.8571 - val_loss: 0.5285\n",
            "Epoch 10/50\n",
            "\u001b[1m6/6\u001b[0m \u001b[32m━━━━━━━━━━━━━━━━━━━━\u001b[0m\u001b[37m\u001b[0m \u001b[1m0s\u001b[0m 7ms/step - accuracy: 0.8286 - loss: 0.5091 - val_accuracy: 0.8571 - val_loss: 0.5117\n",
            "Epoch 11/50\n",
            "\u001b[1m6/6\u001b[0m \u001b[32m━━━━━━━━━━━━━━━━━━━━\u001b[0m\u001b[37m\u001b[0m \u001b[1m0s\u001b[0m 7ms/step - accuracy: 0.8387 - loss: 0.4766 - val_accuracy: 0.8571 - val_loss: 0.4937\n",
            "Epoch 12/50\n",
            "\u001b[1m6/6\u001b[0m \u001b[32m━━━━━━━━━━━━━━━━━━━━\u001b[0m\u001b[37m\u001b[0m \u001b[1m0s\u001b[0m 10ms/step - accuracy: 0.8756 - loss: 0.4321 - val_accuracy: 0.8571 - val_loss: 0.4760\n",
            "Epoch 13/50\n",
            "\u001b[1m6/6\u001b[0m \u001b[32m━━━━━━━━━━━━━━━━━━━━\u001b[0m\u001b[37m\u001b[0m \u001b[1m0s\u001b[0m 7ms/step - accuracy: 0.8387 - loss: 0.4376 - val_accuracy: 0.8571 - val_loss: 0.4636\n",
            "Epoch 14/50\n",
            "\u001b[1m6/6\u001b[0m \u001b[32m━━━━━━━━━━━━━━━━━━━━\u001b[0m\u001b[37m\u001b[0m \u001b[1m0s\u001b[0m 7ms/step - accuracy: 0.9500 - loss: 0.3624 - val_accuracy: 0.8571 - val_loss: 0.4490\n",
            "Epoch 15/50\n",
            "\u001b[1m6/6\u001b[0m \u001b[32m━━━━━━━━━━━━━━━━━━━━\u001b[0m\u001b[37m\u001b[0m \u001b[1m0s\u001b[0m 6ms/step - accuracy: 0.9292 - loss: 0.3570 - val_accuracy: 0.8571 - val_loss: 0.4402\n",
            "Epoch 16/50\n",
            "\u001b[1m6/6\u001b[0m \u001b[32m━━━━━━━━━━━━━━━━━━━━\u001b[0m\u001b[37m\u001b[0m \u001b[1m0s\u001b[0m 7ms/step - accuracy: 0.8667 - loss: 0.3776 - val_accuracy: 0.8571 - val_loss: 0.4347\n",
            "Epoch 17/50\n",
            "\u001b[1m6/6\u001b[0m \u001b[32m━━━━━━━━━━━━━━━━━━━━\u001b[0m\u001b[37m\u001b[0m \u001b[1m0s\u001b[0m 10ms/step - accuracy: 0.9065 - loss: 0.3521 - val_accuracy: 0.8571 - val_loss: 0.4332\n",
            "Epoch 18/50\n",
            "\u001b[1m6/6\u001b[0m \u001b[32m━━━━━━━━━━━━━━━━━━━━\u001b[0m\u001b[37m\u001b[0m \u001b[1m0s\u001b[0m 9ms/step - accuracy: 0.9423 - loss: 0.3117 - val_accuracy: 0.8571 - val_loss: 0.4386\n",
            "Epoch 19/50\n",
            "\u001b[1m6/6\u001b[0m \u001b[32m━━━━━━━━━━━━━━━━━━━━\u001b[0m\u001b[37m\u001b[0m \u001b[1m0s\u001b[0m 10ms/step - accuracy: 0.9810 - loss: 0.2707 - val_accuracy: 0.8571 - val_loss: 0.4493\n",
            "Epoch 20/50\n",
            "\u001b[1m6/6\u001b[0m \u001b[32m━━━━━━━━━━━━━━━━━━━━\u001b[0m\u001b[37m\u001b[0m \u001b[1m0s\u001b[0m 7ms/step - accuracy: 0.9720 - loss: 0.2630 - val_accuracy: 0.8571 - val_loss: 0.4663\n",
            "Epoch 21/50\n",
            "\u001b[1m6/6\u001b[0m \u001b[32m━━━━━━━━━━━━━━━━━━━━\u001b[0m\u001b[37m\u001b[0m \u001b[1m0s\u001b[0m 7ms/step - accuracy: 0.9065 - loss: 0.2576 - val_accuracy: 0.8571 - val_loss: 0.4840\n",
            "Epoch 22/50\n",
            "\u001b[1m6/6\u001b[0m \u001b[32m━━━━━━━━━━━━━━━━━━━━\u001b[0m\u001b[37m\u001b[0m \u001b[1m0s\u001b[0m 11ms/step - accuracy: 1.0000 - loss: 0.1912 - val_accuracy: 0.8571 - val_loss: 0.5063\n",
            "Epoch 23/50\n",
            "\u001b[1m6/6\u001b[0m \u001b[32m━━━━━━━━━━━━━━━━━━━━\u001b[0m\u001b[37m\u001b[0m \u001b[1m0s\u001b[0m 7ms/step - accuracy: 1.0000 - loss: 0.2111 - val_accuracy: 0.8571 - val_loss: 0.5375\n",
            "Epoch 24/50\n",
            "\u001b[1m6/6\u001b[0m \u001b[32m━━━━━━━━━━━━━━━━━━━━\u001b[0m\u001b[37m\u001b[0m \u001b[1m0s\u001b[0m 7ms/step - accuracy: 1.0000 - loss: 0.1678 - val_accuracy: 0.8571 - val_loss: 0.5587\n",
            "Epoch 25/50\n",
            "\u001b[1m6/6\u001b[0m \u001b[32m━━━━━━━━━━━━━━━━━━━━\u001b[0m\u001b[37m\u001b[0m \u001b[1m0s\u001b[0m 7ms/step - accuracy: 1.0000 - loss: 0.1505 - val_accuracy: 0.8571 - val_loss: 0.5810\n",
            "Epoch 26/50\n",
            "\u001b[1m6/6\u001b[0m \u001b[32m━━━━━━━━━━━━━━━━━━━━\u001b[0m\u001b[37m\u001b[0m \u001b[1m0s\u001b[0m 7ms/step - accuracy: 1.0000 - loss: 0.1514 - val_accuracy: 0.8571 - val_loss: 0.6115\n",
            "Epoch 27/50\n",
            "\u001b[1m6/6\u001b[0m \u001b[32m━━━━━━━━━━━━━━━━━━━━\u001b[0m\u001b[37m\u001b[0m \u001b[1m0s\u001b[0m 7ms/step - accuracy: 1.0000 - loss: 0.1278 - val_accuracy: 0.8571 - val_loss: 0.6516\n",
            "Epoch 28/50\n",
            "\u001b[1m6/6\u001b[0m \u001b[32m━━━━━━━━━━━━━━━━━━━━\u001b[0m\u001b[37m\u001b[0m \u001b[1m0s\u001b[0m 7ms/step - accuracy: 1.0000 - loss: 0.1026 - val_accuracy: 0.8571 - val_loss: 0.6897\n",
            "Epoch 29/50\n",
            "\u001b[1m6/6\u001b[0m \u001b[32m━━━━━━━━━━━━━━━━━━━━\u001b[0m\u001b[37m\u001b[0m \u001b[1m0s\u001b[0m 7ms/step - accuracy: 1.0000 - loss: 0.0714 - val_accuracy: 0.8571 - val_loss: 0.7211\n",
            "Epoch 30/50\n",
            "\u001b[1m6/6\u001b[0m \u001b[32m━━━━━━━━━━━━━━━━━━━━\u001b[0m\u001b[37m\u001b[0m \u001b[1m0s\u001b[0m 12ms/step - accuracy: 1.0000 - loss: 0.0746 - val_accuracy: 0.8571 - val_loss: 0.7558\n",
            "Epoch 31/50\n",
            "\u001b[1m6/6\u001b[0m \u001b[32m━━━━━━━━━━━━━━━━━━━━\u001b[0m\u001b[37m\u001b[0m \u001b[1m0s\u001b[0m 10ms/step - accuracy: 1.0000 - loss: 0.0660 - val_accuracy: 0.8571 - val_loss: 0.7975\n",
            "Epoch 32/50\n",
            "\u001b[1m6/6\u001b[0m \u001b[32m━━━━━━━━━━━━━━━━━━━━\u001b[0m\u001b[37m\u001b[0m \u001b[1m0s\u001b[0m 7ms/step - accuracy: 1.0000 - loss: 0.0756 - val_accuracy: 0.8571 - val_loss: 0.8459\n",
            "Epoch 33/50\n",
            "\u001b[1m6/6\u001b[0m \u001b[32m━━━━━━━━━━━━━━━━━━━━\u001b[0m\u001b[37m\u001b[0m \u001b[1m0s\u001b[0m 7ms/step - accuracy: 1.0000 - loss: 0.0599 - val_accuracy: 0.8571 - val_loss: 0.8809\n",
            "Epoch 34/50\n",
            "\u001b[1m6/6\u001b[0m \u001b[32m━━━━━━━━━━━━━━━━━━━━\u001b[0m\u001b[37m\u001b[0m \u001b[1m0s\u001b[0m 7ms/step - accuracy: 1.0000 - loss: 0.0684 - val_accuracy: 0.8571 - val_loss: 0.9064\n",
            "Epoch 35/50\n",
            "\u001b[1m6/6\u001b[0m \u001b[32m━━━━━━━━━━━━━━━━━━━━\u001b[0m\u001b[37m\u001b[0m \u001b[1m0s\u001b[0m 7ms/step - accuracy: 1.0000 - loss: 0.0449 - val_accuracy: 0.8571 - val_loss: 0.9426\n",
            "Epoch 36/50\n",
            "\u001b[1m6/6\u001b[0m \u001b[32m━━━━━━━━━━━━━━━━━━━━\u001b[0m\u001b[37m\u001b[0m \u001b[1m0s\u001b[0m 7ms/step - accuracy: 1.0000 - loss: 0.0386 - val_accuracy: 0.8571 - val_loss: 0.9826\n",
            "Epoch 37/50\n",
            "\u001b[1m6/6\u001b[0m \u001b[32m━━━━━━━━━━━━━━━━━━━━\u001b[0m\u001b[37m\u001b[0m \u001b[1m0s\u001b[0m 7ms/step - accuracy: 1.0000 - loss: 0.0431 - val_accuracy: 0.8571 - val_loss: 1.0183\n",
            "Epoch 38/50\n",
            "\u001b[1m6/6\u001b[0m \u001b[32m━━━━━━━━━━━━━━━━━━━━\u001b[0m\u001b[37m\u001b[0m \u001b[1m0s\u001b[0m 10ms/step - accuracy: 1.0000 - loss: 0.0372 - val_accuracy: 0.8571 - val_loss: 1.0522\n",
            "Epoch 39/50\n",
            "\u001b[1m6/6\u001b[0m \u001b[32m━━━━━━━━━━━━━━━━━━━━\u001b[0m\u001b[37m\u001b[0m \u001b[1m0s\u001b[0m 7ms/step - accuracy: 1.0000 - loss: 0.0397 - val_accuracy: 0.8571 - val_loss: 1.0850\n",
            "Epoch 40/50\n",
            "\u001b[1m6/6\u001b[0m \u001b[32m━━━━━━━━━━━━━━━━━━━━\u001b[0m\u001b[37m\u001b[0m \u001b[1m0s\u001b[0m 8ms/step - accuracy: 1.0000 - loss: 0.0254 - val_accuracy: 0.8571 - val_loss: 1.1121\n",
            "Epoch 41/50\n",
            "\u001b[1m6/6\u001b[0m \u001b[32m━━━━━━━━━━━━━━━━━━━━\u001b[0m\u001b[37m\u001b[0m \u001b[1m0s\u001b[0m 8ms/step - accuracy: 1.0000 - loss: 0.0234 - val_accuracy: 0.8571 - val_loss: 1.1480\n",
            "Epoch 42/50\n",
            "\u001b[1m6/6\u001b[0m \u001b[32m━━━━━━━━━━━━━━━━━━━━\u001b[0m\u001b[37m\u001b[0m \u001b[1m0s\u001b[0m 7ms/step - accuracy: 1.0000 - loss: 0.0188 - val_accuracy: 0.8571 - val_loss: 1.1752\n",
            "Epoch 43/50\n",
            "\u001b[1m6/6\u001b[0m \u001b[32m━━━━━━━━━━━━━━━━━━━━\u001b[0m\u001b[37m\u001b[0m \u001b[1m0s\u001b[0m 11ms/step - accuracy: 1.0000 - loss: 0.0220 - val_accuracy: 0.8571 - val_loss: 1.2042\n",
            "Epoch 44/50\n",
            "\u001b[1m6/6\u001b[0m \u001b[32m━━━━━━━━━━━━━━━━━━━━\u001b[0m\u001b[37m\u001b[0m \u001b[1m0s\u001b[0m 7ms/step - accuracy: 1.0000 - loss: 0.0205 - val_accuracy: 0.8571 - val_loss: 1.2333\n",
            "Epoch 45/50\n",
            "\u001b[1m6/6\u001b[0m \u001b[32m━━━━━━━━━━━━━━━━━━━━\u001b[0m\u001b[37m\u001b[0m \u001b[1m0s\u001b[0m 10ms/step - accuracy: 1.0000 - loss: 0.0204 - val_accuracy: 0.8571 - val_loss: 1.2616\n",
            "Epoch 46/50\n",
            "\u001b[1m6/6\u001b[0m \u001b[32m━━━━━━━━━━━━━━━━━━━━\u001b[0m\u001b[37m\u001b[0m \u001b[1m0s\u001b[0m 10ms/step - accuracy: 1.0000 - loss: 0.0172 - val_accuracy: 0.8571 - val_loss: 1.2779\n",
            "Epoch 47/50\n",
            "\u001b[1m6/6\u001b[0m \u001b[32m━━━━━━━━━━━━━━━━━━━━\u001b[0m\u001b[37m\u001b[0m \u001b[1m0s\u001b[0m 7ms/step - accuracy: 1.0000 - loss: 0.0176 - val_accuracy: 0.8571 - val_loss: 1.3034\n",
            "Epoch 48/50\n",
            "\u001b[1m6/6\u001b[0m \u001b[32m━━━━━━━━━━━━━━━━━━━━\u001b[0m\u001b[37m\u001b[0m \u001b[1m0s\u001b[0m 7ms/step - accuracy: 1.0000 - loss: 0.0116 - val_accuracy: 0.8571 - val_loss: 1.3264\n",
            "Epoch 49/50\n",
            "\u001b[1m6/6\u001b[0m \u001b[32m━━━━━━━━━━━━━━━━━━━━\u001b[0m\u001b[37m\u001b[0m \u001b[1m0s\u001b[0m 7ms/step - accuracy: 1.0000 - loss: 0.0129 - val_accuracy: 0.8571 - val_loss: 1.3487\n",
            "Epoch 50/50\n",
            "\u001b[1m6/6\u001b[0m \u001b[32m━━━━━━━━━━━━━━━━━━━━\u001b[0m\u001b[37m\u001b[0m \u001b[1m0s\u001b[0m 7ms/step - accuracy: 1.0000 - loss: 0.0154 - val_accuracy: 0.8571 - val_loss: 1.3745\n",
            "Test Accuracy: 0.88\n"
          ]
        }
      ]
    },
    {
      "cell_type": "markdown",
      "source": [
        "## Inference"
      ],
      "metadata": {
        "id": "8BLogDqOGtgp"
      }
    },
    {
      "cell_type": "code",
      "source": [
        "# Input baru tanpa memperhatikan urutan\n",
        "user_input = {\n",
        "    'BMI': 25.0,\n",
        "    'Calories (kcal)': 250,\n",
        "    'Protein (g)': 10,\n",
        "    'Carbohydrates (g)': 30,\n",
        "    'Fat (g)': 10,\n",
        "    'Fiber (g)': 4,\n",
        "    'goal_weight_loss': 0,\n",
        "    'goal_weight_gain': 0,\n",
        "    'goal_maintenance': 1\n",
        "}\n",
        "\n",
        "# Konversi ke DataFrame\n",
        "new_data = pd.DataFrame([user_input])\n",
        "\n",
        "# Lengkapi kolom yang hilang\n",
        "for col in X.columns:\n",
        "    if col not in new_data.columns:\n",
        "        new_data[col] = 0  # Default value for missing columns\n",
        "\n",
        "# Pastikan urutan sesuai dengan data training\n",
        "new_data = new_data[X.columns]\n",
        "\n",
        "# Scale input data\n",
        "new_data_scaled = scaler.transform(new_data)\n",
        "\n",
        "# Predict using the model\n",
        "prediction = model.predict(new_data_scaled)\n",
        "predicted_label = (prediction > 0.5).astype(int)\n",
        "\n",
        "print(f\"Predicted Label: {predicted_label[0][0]} (1 = cocok, 0 = tidak cocok)\")\n"
      ],
      "metadata": {
        "id": "3aEhxt2IFp9W",
        "outputId": "86463c20-7a9c-405a-d0ec-8963fdb659a0",
        "colab": {
          "base_uri": "https://localhost:8080/"
        }
      },
      "execution_count": null,
      "outputs": [
        {
          "output_type": "stream",
          "name": "stdout",
          "text": [
            "\u001b[1m1/1\u001b[0m \u001b[32m━━━━━━━━━━━━━━━━━━━━\u001b[0m\u001b[37m\u001b[0m \u001b[1m0s\u001b[0m 59ms/step\n",
            "Predicted Label: 1 (1 = cocok, 0 = tidak cocok)\n"
          ]
        }
      ]
    },
    {
      "cell_type": "code",
      "source": [
        "# Prepare Features for display based on labels\n",
        "weight_loss_recommendations = uploaded_nutrition_data[uploaded_nutrition_data['weight_loss_label'] == 1]\n",
        "weight_gain_recommendations = uploaded_nutrition_data[uploaded_nutrition_data['weight_gain_label'] == 1]\n",
        "maintenance_recommendations = uploaded_nutrition_data[uploaded_nutrition_data['maintenance_label'] == 1]\n",
        "\n",
        "# Menampilkan kolom yang relevan (misalnya, class, kalori, protein, dll)\n",
        "weight_loss_display = weight_loss_recommendations[['class', 'Calories (kcal)', 'Protein (g)', 'Carbohydrates (g)', 'Fat (g)', 'Fiber (g)']]\n",
        "weight_gain_display = weight_gain_recommendations[['class', 'Calories (kcal)', 'Protein (g)', 'Carbohydrates (g)', 'Fat (g)', 'Fiber (g)']]\n",
        "maintenance_display = maintenance_recommendations[['class', 'Calories (kcal)', 'Protein (g)', 'Carbohydrates (g)', 'Fat (g)', 'Fiber (g)']]\n",
        "\n",
        "# Fungsi untuk mendapatkan rekomendasi yang sudah diurutkan\n",
        "def get_sorted_recommendations(goal, sort_by='Calories (kcal)', ascending=True):\n",
        "    if goal == 'weight_loss':\n",
        "        recommendations = weight_loss_display\n",
        "        # Sort: Kalori terendah, Protein tinggi, Serat tinggi\n",
        "        recommendations_sorted = recommendations.sort_values(by=['Calories (kcal)', 'Protein (g)', 'Fiber (g)'], ascending=[True, False, False])\n",
        "\n",
        "    elif goal == 'weight_gain':\n",
        "        recommendations = weight_gain_display\n",
        "        # Sort: Kalori tertinggi, Protein tinggi, Lemak tinggi\n",
        "        recommendations_sorted = recommendations.sort_values(by=['Calories (kcal)', 'Protein (g)', 'Fat (g)'], ascending=[False, False, False])\n",
        "\n",
        "    elif goal == 'maintenance':\n",
        "        recommendations = maintenance_display\n",
        "        # Sort: Kalori moderat, Protein cukup, Lemak moderat\n",
        "        recommendations_sorted = recommendations.sort_values(by=['Calories (kcal)', 'Protein (g)', 'Fat (g)'], ascending=[True, False, True])\n",
        "    else:\n",
        "        print(\"Invalid goal!\")\n",
        "        return None\n",
        "\n",
        "    return recommendations_sorted\n",
        "\n",
        "# Contoh penggunaan fungsi untuk rekomendasi weight loss yang diurutkan berdasarkan kalori\n",
        "goal = 'weight_loss'  # Bisa diganti 'weight_gain' atau 'maintenance'\n",
        "sorted_recommendations = get_sorted_recommendations(goal)\n",
        "print(f\"\\nSorted {goal.capitalize()} Recommendations:\")\n",
        "print(sorted_recommendations)\n",
        "\n",
        "# Misalnya Anda ingin rekomendasi weight gain, urutkan berdasarkan Protein\n",
        "goal = 'weight_gain'\n",
        "sorted_recommendations = get_sorted_recommendations(goal)\n",
        "print(f\"\\nSorted {goal.capitalize()} Recommendations (by Protein):\")\n",
        "print(sorted_recommendations)\n",
        "\n",
        "# Misalnya Anda ingin rekomendasi maintenance, urutkan berdasarkan Fat\n",
        "goal = 'maintenance'\n",
        "sorted_recommendations = get_sorted_recommendations(goal)\n",
        "print(f\"\\nSorted {goal.capitalize()} Recommendations (by Fat):\")\n",
        "print(sorted_recommendations)"
      ],
      "metadata": {
        "id": "Cysjs_aNS0WH",
        "colab": {
          "base_uri": "https://localhost:8080/"
        },
        "outputId": "f59e2d95-1e72-409c-c2c4-537627fa09c5"
      },
      "execution_count": null,
      "outputs": [
        {
          "output_type": "stream",
          "name": "stdout",
          "text": [
            "\n",
            "Sorted Weight_loss Recommendations:\n",
            "                         class  Calories (kcal)  Protein (g)  \\\n",
            "22                  Sayur Asem              150         6.00   \n",
            "32              Tumis Kangkung              150         6.00   \n",
            "31  Bubur Ayam (tanpa kerupuk)              180        20.00   \n",
            "25           Oseng Tempe Kecap              180        12.00   \n",
            "3                        Bakso              180        12.00   \n",
            "28            Gulai Tahu Tempe              200        12.00   \n",
            "26                 Sayur Lodeh              210         8.00   \n",
            "30               Ayam Taliwang              220        30.00   \n",
            "11                   Soto Ayam              220        20.00   \n",
            "16                   Gado-Gado              220        10.00   \n",
            "10                   Sate Ayam              240        25.00   \n",
            "19                      Pempek              240        14.00   \n",
            "24                  Pecel Lele              250        25.00   \n",
            "8                        Pecel              250        10.00   \n",
            "6                  Nasi Goreng              250         8.00   \n",
            "2                  Ayam Goreng              260        21.93   \n",
            "1                  Ayam Geprek              263        17.61   \n",
            "17                   Nasi Uduk              270         7.00   \n",
            "7                  Nasi Kuning              270         6.00   \n",
            "33                 Sate Padang              280        22.00   \n",
            "20               Lontong Sayur              280         8.00   \n",
            "36                    Mie Ayam              290        18.00   \n",
            "\n",
            "    Carbohydrates (g)  Fat (g)  Fiber (g)  \n",
            "22              20.00     8.00        5.0  \n",
            "32              12.00     8.00        4.0  \n",
            "31              14.00     6.00        2.0  \n",
            "25              12.00     9.00        3.0  \n",
            "3               15.00     8.00        1.0  \n",
            "28              20.00    10.00        5.0  \n",
            "26              22.00    10.00        5.0  \n",
            "30               8.00    10.00        1.0  \n",
            "11              20.00    12.00        3.0  \n",
            "16              18.00    16.00        6.0  \n",
            "10               7.00    18.00        1.0  \n",
            "19              22.00    12.00        3.0  \n",
            "24              15.00    15.00        3.0  \n",
            "8               30.00    10.00        4.0  \n",
            "6               35.00    12.00        1.0  \n",
            "2               10.76    14.55        1.4  \n",
            "1                7.60    17.99        0.8  \n",
            "17              38.00    14.00        3.0  \n",
            "7               40.00     8.00        2.0  \n",
            "33              18.00    18.00        1.0  \n",
            "20              32.00    14.00        5.0  \n",
            "36              30.00    10.00        3.0  \n",
            "\n",
            "Sorted Weight_gain Recommendations (by Protein):\n",
            "            class  Calories (kcal)  Protein (g)  Carbohydrates (g)  Fat (g)  \\\n",
            "21     Sop Buntut              400        26.00              15.00    28.00   \n",
            "34     Nasi Bebek              380        30.00              15.00    30.00   \n",
            "18    Ayam Penyet              350        32.00              18.00    18.00   \n",
            "35       Tongseng              350        30.00              15.00    25.00   \n",
            "37  Gulai Kambing              350        25.00              10.00    25.00   \n",
            "9         Rendang              320        26.00               8.00    28.00   \n",
            "33    Sate Padang              280        22.00              18.00    18.00   \n",
            "1     Ayam Geprek              263        17.61               7.60    17.99   \n",
            "2     Ayam Goreng              260        21.93              10.76    14.55   \n",
            "\n",
            "    Fiber (g)  \n",
            "21        3.0  \n",
            "34        2.0  \n",
            "18        2.0  \n",
            "35        3.0  \n",
            "37        2.0  \n",
            "9         1.0  \n",
            "33        1.0  \n",
            "1         0.8  \n",
            "2         1.4  \n",
            "\n",
            "Sorted Maintenance Recommendations (by Fat):\n",
            "                         class  Calories (kcal)  Protein (g)  \\\n",
            "31  Bubur Ayam (tanpa kerupuk)              180        20.00   \n",
            "3                        Bakso              180        12.00   \n",
            "25           Oseng Tempe Kecap              180        12.00   \n",
            "28            Gulai Tahu Tempe              200        12.00   \n",
            "30               Ayam Taliwang              220        30.00   \n",
            "23                  Pepes Ikan              220        23.00   \n",
            "11                   Soto Ayam              220        20.00   \n",
            "16                   Gado-Gado              220        10.00   \n",
            "19                      Pempek              240        14.00   \n",
            "24                  Pecel Lele              250        25.00   \n",
            "8                        Pecel              250        10.00   \n",
            "2                  Ayam Goreng              260        21.93   \n",
            "36                    Mie Ayam              290        18.00   \n",
            "\n",
            "    Carbohydrates (g)  Fat (g)  Fiber (g)  \n",
            "31              14.00     6.00        2.0  \n",
            "3               15.00     8.00        1.0  \n",
            "25              12.00     9.00        3.0  \n",
            "28              20.00    10.00        5.0  \n",
            "30               8.00    10.00        1.0  \n",
            "23               8.00    12.00        0.0  \n",
            "11              20.00    12.00        3.0  \n",
            "16              18.00    16.00        6.0  \n",
            "19              22.00    12.00        3.0  \n",
            "24              15.00    15.00        3.0  \n",
            "8               30.00    10.00        4.0  \n",
            "2               10.76    14.55        1.4  \n",
            "36              30.00    10.00        3.0  \n"
          ]
        }
      ]
    },
    {
      "cell_type": "code",
      "source": [
        "model.save(\"/content/model2.h5\")"
      ],
      "metadata": {
        "colab": {
          "base_uri": "https://localhost:8080/"
        },
        "id": "QFcMG2gmU9db",
        "outputId": "7c938434-8c1d-40b6-8152-43f8bd793da0"
      },
      "execution_count": null,
      "outputs": [
        {
          "output_type": "stream",
          "name": "stderr",
          "text": [
            "WARNING:absl:You are saving your model as an HDF5 file via `model.save()` or `keras.saving.save_model(model)`. This file format is considered legacy. We recommend using instead the native Keras format, e.g. `model.save('my_model.keras')` or `keras.saving.save_model(model, 'my_model.keras')`. \n"
          ]
        }
      ]
    },
    {
      "cell_type": "code",
      "source": [
        "!tensorflowjs_converter --input_format=keras /content/model2.h5 /content/tfjs_model"
      ],
      "metadata": {
        "colab": {
          "base_uri": "https://localhost:8080/"
        },
        "id": "eH-IFiBqVfqw",
        "outputId": "e550dcf6-00ab-4f0a-e5dc-b3c51b81eae7"
      },
      "execution_count": null,
      "outputs": [
        {
          "output_type": "stream",
          "name": "stdout",
          "text": [
            "2024-12-01 15:59:12.938313: E external/local_xla/xla/stream_executor/cuda/cuda_fft.cc:477] Unable to register cuFFT factory: Attempting to register factory for plugin cuFFT when one has already been registered\n",
            "WARNING: All log messages before absl::InitializeLog() is called are written to STDERR\n",
            "E0000 00:00:1733068752.985356    4162 cuda_dnn.cc:8310] Unable to register cuDNN factory: Attempting to register factory for plugin cuDNN when one has already been registered\n",
            "E0000 00:00:1733068752.998976    4162 cuda_blas.cc:1418] Unable to register cuBLAS factory: Attempting to register factory for plugin cuBLAS when one has already been registered\n",
            "\u001b[32m🌲 Try \u001b[0m\u001b[34mhttps://ydf.readthedocs.io\u001b[0m\u001b[32m, the successor of TensorFlow Decision Forests with more features and faster training!\u001b[0m\n",
            "failed to lookup keras version from the file,\n",
            "    this is likely a weight only file\n"
          ]
        }
      ]
    },
    {
      "cell_type": "code",
      "source": [
        "!zip -r model2_tfjs.zip /content/tfjs_model"
      ],
      "metadata": {
        "colab": {
          "base_uri": "https://localhost:8080/"
        },
        "id": "L0hYE4Rv8n5-",
        "outputId": "f7e4c4ea-33ad-4a2c-d85b-de0c39d79915"
      },
      "execution_count": null,
      "outputs": [
        {
          "output_type": "stream",
          "name": "stdout",
          "text": [
            "  adding: content/tfjs_model/ (stored 0%)\n",
            "  adding: content/tfjs_model/group1-shard1of1.bin (deflated 8%)\n",
            "  adding: content/tfjs_model/model.json (deflated 81%)\n"
          ]
        }
      ]
    }
  ]
}